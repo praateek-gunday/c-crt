{
 "cells": [
  {
   "cell_type": "code",
   "execution_count": null,
   "metadata": {},
   "outputs": [],
   "source": [
    "//prime number or not\n",
    "#include <stdio.h>\n",
    "int main()\n",
    "{\n",
    "    int n,i,c=0;\n",
    "    scanf(\"%d\",&n);\n",
    "    for(i=2;i<=n/2;i++)\n",
    "    {\n",
    "        if(n%i==0)\n",
    "        c++;\n",
    "    }\n",
    "    if(c==0)\n",
    "    printf(\"prime number\");\n",
    "    else\n",
    "    printf(\"not a prime number\");\n",
    "}\n"
   ]
  },
  {
   "cell_type": "code",
   "execution_count": null,
   "metadata": {},
   "outputs": [],
   "source": [
    "//range of prime numbers\n",
    "#include <stdio.h>\n",
    "int main()\n",
    "{\n",
    "    int n,i,c,range;\n",
    "    scanf(\"%d\",&range);\n",
    "    for(n=2;n<=range;n++)\n",
    "    {\n",
    "        c=0;\n",
    "        for(i=2;i<=n/2;i++)\n",
    "        {\n",
    "        if(n%i==0)\n",
    "        c++;\n",
    "    }\n",
    "    if(c==0)\n",
    "    printf(\"%d, \",n);\n",
    "    }\n",
    "}"
   ]
  },
  {
   "cell_type": "code",
   "execution_count": null,
   "metadata": {},
   "outputs": [],
   "source": [
    "//sum of prime numbers\n",
    "#include <stdio.h>\n",
    "int main()\n",
    "{\n",
    "    int n,i,c,range,s=0;\n",
    "    scanf(\"%d\",&range);\n",
    "    for(n=2;n<=range;n++)\n",
    "    {\n",
    "        c=0;\n",
    "        for(i=2;i<=n/2;i++)\n",
    "        {\n",
    "        if(n%i==0)\n",
    "        c++;\n",
    "    }\n",
    "    if(c==0)\n",
    "    {\n",
    "    s=s+n;\n",
    "    printf(\"%d, \",n);\n",
    "    }\n",
    "}\n",
    "printf(\"\\nsum= %d\",s);\n",
    "}\n"
   ]
  },
  {
   "cell_type": "code",
   "execution_count": null,
   "metadata": {},
   "outputs": [],
   "source": [
    "//patterns\n",
    "#include<stdio.h>\n",
    "void main()\n",
    "{\n",
    "    int i,j,k;\n",
    "    for(i=1;i<=5;i++)\n",
    "    {\n",
    "        for(k=5;k>=i;k--)\n",
    "        printf(\" \");\n",
    "    for(j=i;j>=1;j--)\n",
    "        {\n",
    "            printf(\"%c\",j+64);\n",
    "        }\n",
    "        for(j=1;j<=i;j++)\n",
    "        {\n",
    "            printf(\"%c\",j+64);\n",
    "        }\n",
    "printf(\"\\n\");\n",
    "}\n",
    "}\n"
   ]
  }
 ],
 "metadata": {
  "kernelspec": {
   "display_name": "Python 3",
   "language": "python",
   "name": "python3"
  },
  "language_info": {
   "codemirror_mode": {
    "name": "ipython",
    "version": 3
   },
   "file_extension": ".py",
   "mimetype": "text/x-python",
   "name": "python",
   "nbconvert_exporter": "python",
   "pygments_lexer": "ipython3",
   "version": "3.7.0"
  }
 },
 "nbformat": 4,
 "nbformat_minor": 2
}
