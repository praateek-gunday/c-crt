{
 "cells": [
  {
   "cell_type": "code",
   "execution_count": null,
   "metadata": {},
   "outputs": [],
   "source": [
    "#include <stdio.h>\n",
    "#include<limits.h>\n",
    "void main()\n",
    "{\n",
    "    int a;\n",
    "a=INT_MIN;\n",
    "    printf(\"%d\",a);\n",
    "\n",
    "}"
   ]
  },
  {
   "cell_type": "code",
   "execution_count": null,
   "metadata": {},
   "outputs": [],
   "source": []
  },
  {
   "cell_type": "code",
   "execution_count": null,
   "metadata": {},
   "outputs": [],
   "source": []
  },
  {
   "cell_type": "code",
   "execution_count": null,
   "metadata": {},
   "outputs": [],
   "source": [
    "#include <stdio.h>\n",
    "void main()\n",
    "{\n",
    "    int i;\n",
    "    for(i=0;i<=200;i++)\n",
    "    printf(\"%c=%d,\",i,i);\n",
    "\n",
    "}"
   ]
  },
  {
   "cell_type": "code",
   "execution_count": null,
   "metadata": {},
   "outputs": [],
   "source": [
    "//sum of numbers\n",
    "#include<stdio.h>\n",
    "void main()\n",
    "{ int n,r,s=0;\n",
    "scanf(\"%d\",&n);\n",
    "while(n!=0)\n",
    "{\n",
    "    r=n%10;\n",
    "    s=s+r;\n",
    "    n=n/10;\n",
    "}\n",
    "printf(\"%d\",s);\n",
    "}\n"
   ]
  },
  {
   "cell_type": "code",
   "execution_count": null,
   "metadata": {},
   "outputs": [],
   "source": [
    "//reverse of number\n",
    "#include<stdio.h>\n",
    "void main()\n",
    "{ int n,r,s=0;\n",
    "scanf(\"%d\",&n);\n",
    "while(n!=0)\n",
    "{\n",
    "    r=n%10;\n",
    "    s=s*10+r;\n",
    "    n=n/10;\n",
    "}\n",
    "printf(\"%d\",s);\n",
    "}\n"
   ]
  },
  {
   "cell_type": "code",
   "execution_count": null,
   "metadata": {},
   "outputs": [],
   "source": [
    "//palindrome of number\n",
    "#include<stdio.h>\n",
    "void main()\n",
    "{ \n",
    "    int n,r,s=0,t;\n",
    "scanf(\"%d\",&n);\n",
    "t=n;\n",
    "while(n!=0)\n",
    "{\n",
    "    r=n%10;\n",
    "    s=s*10+r;\n",
    "    n=n/10;\n",
    "}\n",
    "if(s==t)\n",
    "{\n",
    "    printf(\" palindrome\");\n",
    "}\n",
    "else\n",
    "{\n",
    "    printf(\"not palindrome\");\n",
    "}\n",
    "}\n"
   ]
  },
  {
   "cell_type": "code",
   "execution_count": null,
   "metadata": {},
   "outputs": [],
   "source": [
    "//armstrong number\n",
    "#include<stdio.h>\n",
    "#include<math.h>\n",
    "void main()\n",
    "{ \n",
    "    int n,r,s=0,t,c=0;\n",
    "scanf(\"%d\",&n);\n",
    "t=n;\n",
    "while(t!=0)\n",
    "{c++;\n",
    "t=t/10;\n",
    "}\n",
    "t=n;\n",
    "while(t!=0)\n",
    "    {\n",
    "        r=t%10;\n",
    "    s=s+pow(r,c);\n",
    "    t=t/10;\n",
    "}\n",
    "if(n==s)\n",
    "{\n",
    "    printf(\"armstrong\");\n",
    "}\n",
    "else\n",
    "{\n",
    "    printf(\"not armstrong\");\n",
    "}\n",
    "}"
   ]
  }
 ],
 "metadata": {
  "kernelspec": {
   "display_name": "Python 3",
   "language": "python",
   "name": "python3"
  },
  "language_info": {
   "codemirror_mode": {
    "name": "ipython",
    "version": 3
   },
   "file_extension": ".py",
   "mimetype": "text/x-python",
   "name": "python",
   "nbconvert_exporter": "python",
   "pygments_lexer": "ipython3",
   "version": "3.7.0"
  }
 },
 "nbformat": 4,
 "nbformat_minor": 2
}
